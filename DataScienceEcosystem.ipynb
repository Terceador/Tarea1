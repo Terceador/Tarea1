{
 "cells": [
  {
   "cell_type": "markdown",
   "id": "bfede0fb-981b-4964-b1f6-a78711560eac",
   "metadata": {
    "tags": []
   },
   "source": [
    "# Data Science Tools and Ecosystem"
   ]
  },
  {
   "cell_type": "markdown",
   "id": "32f91c91-1dad-4263-944a-5bb6339856ff",
   "metadata": {},
   "source": [
    "In this notebook, Data Science Tools and Ecosystem are summarized."
   ]
  },
  {
   "cell_type": "markdown",
   "id": "89ed9dca-a1e5-4c6d-9aa7-d5d75b63569e",
   "metadata": {},
   "source": [
    "**Objectives:**\n",
    "\n",
    "- Listar los lenguajes populares para Ciencia de Datos.\n",
    "- Enumerar las bibliotecas comúnmente utilizadas por los Científicos de Datos.\n",
    "- Crear una tabla de herramientas utilizadas en Ciencia de Datos.\n",
    "- Ejecutar expresiones aritméticas en una celda de código.\n",
    "- Convertir minutos a horas en una celda de código."
   ]
  },
  {
   "cell_type": "markdown",
   "id": "d09add5e-f50e-4ab9-8316-c0032e54579a",
   "metadata": {},
   "source": [
    "Some of the popular languages that Data Scientists use are:\n",
    "1. SQL\n",
    "2. Julia\n",
    "3. R\n",
    "4. Python\n"
   ]
  },
  {
   "cell_type": "markdown",
   "id": "e17989b9-6d59-48ba-a8ff-e5ff6de71168",
   "metadata": {
    "tags": []
   },
   "source": [
    "Some of the commonly used libraries used by Data Scientists include:\n",
    "1. Pandas\n",
    "2. Numpy\n",
    "3. Scikit-learn\n",
    "4. Matplotlib"
   ]
  },
  {
   "cell_type": "markdown",
   "id": "e1ec079d-1299-49b4-8ebf-3a8441f9365b",
   "metadata": {},
   "source": [
    "| Data Science Tools |\n",
    "| ------------------ |\n",
    "| Jupyter Notebook   |\n",
    "| PyCharm            |\n",
    "| RStudio            |"
   ]
  },
  {
   "cell_type": "markdown",
   "id": "6aad2222-d86c-4a8c-a67f-0bb68170c73c",
   "metadata": {},
   "source": [
    "### Below are a few examples of evaluating arithmetic expressions in Python."
   ]
  },
  {
   "cell_type": "code",
   "execution_count": 3,
   "id": "64cd4633-80ce-476f-b3d7-eb20c130660f",
   "metadata": {
    "tags": []
   },
   "outputs": [
    {
     "data": {
      "text/plain": [
       "17"
      ]
     },
     "execution_count": 3,
     "metadata": {},
     "output_type": "execute_result"
    }
   ],
   "source": [
    "#This is a simple arithmetic expression to multiply then add integers.\n",
    "resultado= (3*4) + 5\n",
    "resultado"
   ]
  },
  {
   "cell_type": "code",
   "execution_count": 4,
   "id": "8a874045-da63-42e1-b99d-4c6171e15578",
   "metadata": {
    "tags": []
   },
   "outputs": [
    {
     "data": {
      "text/plain": [
       "3.3333333333333335"
      ]
     },
     "execution_count": 4,
     "metadata": {},
     "output_type": "execute_result"
    }
   ],
   "source": [
    "# This will convert 200 minutes to hours by dividing by 60.\n",
    "hora=200/60\n",
    "hora"
   ]
  },
  {
   "cell_type": "markdown",
   "id": "3e444d8b-6710-47f0-bdf1-3ec61b1cc772",
   "metadata": {},
   "source": [
    "##Autor\n",
    "Pablo Andres Castañeda Araya"
   ]
  },
  {
   "cell_type": "code",
   "execution_count": null,
   "id": "12c7eb21-b06d-4e06-99ff-30ede28f7b2d",
   "metadata": {},
   "outputs": [],
   "source": []
  }
 ],
 "metadata": {
  "kernelspec": {
   "display_name": "Python",
   "language": "python",
   "name": "conda-env-python-py"
  },
  "language_info": {
   "codemirror_mode": {
    "name": "ipython",
    "version": 3
   },
   "file_extension": ".py",
   "mimetype": "text/x-python",
   "name": "python",
   "nbconvert_exporter": "python",
   "pygments_lexer": "ipython3",
   "version": "3.7.12"
  }
 },
 "nbformat": 4,
 "nbformat_minor": 5
}
